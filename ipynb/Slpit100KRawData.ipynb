{
 "cells": [
  {
   "cell_type": "code",
   "execution_count": 1,
   "id": "5d39fe79",
   "metadata": {},
   "outputs": [],
   "source": [
    "import pandas as pd\n",
    "import pickle"
   ]
  },
  {
   "cell_type": "code",
   "execution_count": 2,
   "id": "48557ddc",
   "metadata": {},
   "outputs": [],
   "source": [
    "df_csv = pd.read_csv('/home/d.dasarathan/project_sml/rawdata.csv', delimiter='^')"
   ]
  },
  {
   "cell_type": "code",
   "execution_count": 3,
   "id": "1e5d83c8",
   "metadata": {},
   "outputs": [],
   "source": [
    "df_csv.to_pickle('/home/d.dasarathan/project_sml/rawdata.pkl')"
   ]
  },
  {
   "cell_type": "code",
   "execution_count": 4,
   "id": "7ad0611f",
   "metadata": {},
   "outputs": [
    {
     "data": {
      "text/html": [
       "<div>\n",
       "<style scoped>\n",
       "    .dataframe tbody tr th:only-of-type {\n",
       "        vertical-align: middle;\n",
       "    }\n",
       "\n",
       "    .dataframe tbody tr th {\n",
       "        vertical-align: top;\n",
       "    }\n",
       "\n",
       "    .dataframe thead th {\n",
       "        text-align: right;\n",
       "    }\n",
       "</style>\n",
       "<table border=\"1\" class=\"dataframe\">\n",
       "  <thead>\n",
       "    <tr style=\"text-align: right;\">\n",
       "      <th></th>\n",
       "      <th>JobID</th>\n",
       "      <th>JobIDRaw</th>\n",
       "      <th>JobName</th>\n",
       "      <th>Partition</th>\n",
       "      <th>MaxVMSize</th>\n",
       "      <th>MaxVMSizeNode</th>\n",
       "      <th>MaxVMSizeTask</th>\n",
       "      <th>AveVMSize</th>\n",
       "      <th>MaxRSS</th>\n",
       "      <th>MaxRSSNode</th>\n",
       "      <th>...</th>\n",
       "      <th>TRESUsageInMin</th>\n",
       "      <th>TRESUsageInMinNode</th>\n",
       "      <th>TRESUsageInMinTask</th>\n",
       "      <th>TRESUsageInTot</th>\n",
       "      <th>TRESUsageOutMax</th>\n",
       "      <th>TRESUsageOutMaxNode</th>\n",
       "      <th>TRESUsageOutMaxTask</th>\n",
       "      <th>TRESUsageOutAve</th>\n",
       "      <th>TRESUsageOutTot</th>\n",
       "      <th>Unnamed: 54</th>\n",
       "    </tr>\n",
       "  </thead>\n",
       "  <tbody>\n",
       "    <tr>\n",
       "      <td>0</td>\n",
       "      <td>5379970_1</td>\n",
       "      <td>5379970</td>\n",
       "      <td>HDQN_FLAT.sbatch</td>\n",
       "      <td>general</td>\n",
       "      <td>NaN</td>\n",
       "      <td>NaN</td>\n",
       "      <td>NaN</td>\n",
       "      <td>NaN</td>\n",
       "      <td>NaN</td>\n",
       "      <td>NaN</td>\n",
       "      <td>...</td>\n",
       "      <td>NaN</td>\n",
       "      <td>NaN</td>\n",
       "      <td>NaN</td>\n",
       "      <td>NaN</td>\n",
       "      <td>NaN</td>\n",
       "      <td>NaN</td>\n",
       "      <td>NaN</td>\n",
       "      <td>NaN</td>\n",
       "      <td>NaN</td>\n",
       "      <td>NaN</td>\n",
       "    </tr>\n",
       "    <tr>\n",
       "      <td>1</td>\n",
       "      <td>5381513_1</td>\n",
       "      <td>5381513</td>\n",
       "      <td>one-cat</td>\n",
       "      <td>fullnode</td>\n",
       "      <td>NaN</td>\n",
       "      <td>NaN</td>\n",
       "      <td>NaN</td>\n",
       "      <td>NaN</td>\n",
       "      <td>NaN</td>\n",
       "      <td>NaN</td>\n",
       "      <td>...</td>\n",
       "      <td>NaN</td>\n",
       "      <td>NaN</td>\n",
       "      <td>NaN</td>\n",
       "      <td>NaN</td>\n",
       "      <td>NaN</td>\n",
       "      <td>NaN</td>\n",
       "      <td>NaN</td>\n",
       "      <td>NaN</td>\n",
       "      <td>NaN</td>\n",
       "      <td>NaN</td>\n",
       "    </tr>\n",
       "    <tr>\n",
       "      <td>2</td>\n",
       "      <td>5381514</td>\n",
       "      <td>5381514</td>\n",
       "      <td>moar-cats</td>\n",
       "      <td>general</td>\n",
       "      <td>NaN</td>\n",
       "      <td>NaN</td>\n",
       "      <td>NaN</td>\n",
       "      <td>NaN</td>\n",
       "      <td>NaN</td>\n",
       "      <td>NaN</td>\n",
       "      <td>...</td>\n",
       "      <td>NaN</td>\n",
       "      <td>NaN</td>\n",
       "      <td>NaN</td>\n",
       "      <td>NaN</td>\n",
       "      <td>NaN</td>\n",
       "      <td>NaN</td>\n",
       "      <td>NaN</td>\n",
       "      <td>NaN</td>\n",
       "      <td>NaN</td>\n",
       "      <td>NaN</td>\n",
       "    </tr>\n",
       "    <tr>\n",
       "      <td>3</td>\n",
       "      <td>6333286</td>\n",
       "      <td>6333286</td>\n",
       "      <td>exec</td>\n",
       "      <td>gpu</td>\n",
       "      <td>NaN</td>\n",
       "      <td>NaN</td>\n",
       "      <td>NaN</td>\n",
       "      <td>NaN</td>\n",
       "      <td>NaN</td>\n",
       "      <td>NaN</td>\n",
       "      <td>...</td>\n",
       "      <td>NaN</td>\n",
       "      <td>NaN</td>\n",
       "      <td>NaN</td>\n",
       "      <td>NaN</td>\n",
       "      <td>NaN</td>\n",
       "      <td>NaN</td>\n",
       "      <td>NaN</td>\n",
       "      <td>NaN</td>\n",
       "      <td>NaN</td>\n",
       "      <td>NaN</td>\n",
       "    </tr>\n",
       "    <tr>\n",
       "      <td>4</td>\n",
       "      <td>6890214</td>\n",
       "      <td>6890214</td>\n",
       "      <td>prun69_cdimer</td>\n",
       "      <td>general</td>\n",
       "      <td>NaN</td>\n",
       "      <td>NaN</td>\n",
       "      <td>NaN</td>\n",
       "      <td>NaN</td>\n",
       "      <td>NaN</td>\n",
       "      <td>NaN</td>\n",
       "      <td>...</td>\n",
       "      <td>NaN</td>\n",
       "      <td>NaN</td>\n",
       "      <td>NaN</td>\n",
       "      <td>NaN</td>\n",
       "      <td>NaN</td>\n",
       "      <td>NaN</td>\n",
       "      <td>NaN</td>\n",
       "      <td>NaN</td>\n",
       "      <td>NaN</td>\n",
       "      <td>NaN</td>\n",
       "    </tr>\n",
       "  </tbody>\n",
       "</table>\n",
       "<p>5 rows × 55 columns</p>\n",
       "</div>"
      ],
      "text/plain": [
       "       JobID JobIDRaw           JobName Partition MaxVMSize MaxVMSizeNode  \\\n",
       "0  5379970_1  5379970  HDQN_FLAT.sbatch   general       NaN           NaN   \n",
       "1  5381513_1  5381513           one-cat  fullnode       NaN           NaN   \n",
       "2    5381514  5381514         moar-cats   general       NaN           NaN   \n",
       "3    6333286  6333286              exec       gpu       NaN           NaN   \n",
       "4    6890214  6890214     prun69_cdimer   general       NaN           NaN   \n",
       "\n",
       "   MaxVMSizeTask AveVMSize MaxRSS MaxRSSNode  ...  TRESUsageInMin  \\\n",
       "0            NaN       NaN    NaN        NaN  ...             NaN   \n",
       "1            NaN       NaN    NaN        NaN  ...             NaN   \n",
       "2            NaN       NaN    NaN        NaN  ...             NaN   \n",
       "3            NaN       NaN    NaN        NaN  ...             NaN   \n",
       "4            NaN       NaN    NaN        NaN  ...             NaN   \n",
       "\n",
       "  TRESUsageInMinNode  TRESUsageInMinTask TRESUsageInTot  TRESUsageOutMax  \\\n",
       "0                NaN                 NaN            NaN              NaN   \n",
       "1                NaN                 NaN            NaN              NaN   \n",
       "2                NaN                 NaN            NaN              NaN   \n",
       "3                NaN                 NaN            NaN              NaN   \n",
       "4                NaN                 NaN            NaN              NaN   \n",
       "\n",
       "   TRESUsageOutMaxNode  TRESUsageOutMaxTask  TRESUsageOutAve  TRESUsageOutTot  \\\n",
       "0                  NaN                  NaN              NaN              NaN   \n",
       "1                  NaN                  NaN              NaN              NaN   \n",
       "2                  NaN                  NaN              NaN              NaN   \n",
       "3                  NaN                  NaN              NaN              NaN   \n",
       "4                  NaN                  NaN              NaN              NaN   \n",
       "\n",
       "  Unnamed: 54  \n",
       "0         NaN  \n",
       "1         NaN  \n",
       "2         NaN  \n",
       "3         NaN  \n",
       "4         NaN  \n",
       "\n",
       "[5 rows x 55 columns]"
      ]
     },
     "execution_count": 4,
     "metadata": {},
     "output_type": "execute_result"
    }
   ],
   "source": [
    "df_csv.head()"
   ]
  },
  {
   "cell_type": "code",
   "execution_count": null,
   "id": "63f6b1c3",
   "metadata": {},
   "outputs": [],
   "source": []
  },
  {
   "cell_type": "code",
   "execution_count": 13,
   "id": "5257fa8b",
   "metadata": {},
   "outputs": [],
   "source": [
    "#df_full = pd.read_pickle('/home/d.dasarathan/project_sml/df_raw_data.pkl')"
   ]
  },
  {
   "cell_type": "code",
   "execution_count": null,
   "id": "b0639350",
   "metadata": {},
   "outputs": [],
   "source": []
  },
  {
   "cell_type": "code",
   "execution_count": 14,
   "id": "5ada6dbc",
   "metadata": {},
   "outputs": [
    {
     "data": {
      "text/html": [
       "<div>\n",
       "<style scoped>\n",
       "    .dataframe tbody tr th:only-of-type {\n",
       "        vertical-align: middle;\n",
       "    }\n",
       "\n",
       "    .dataframe tbody tr th {\n",
       "        vertical-align: top;\n",
       "    }\n",
       "\n",
       "    .dataframe thead th {\n",
       "        text-align: right;\n",
       "    }\n",
       "</style>\n",
       "<table border=\"1\" class=\"dataframe\">\n",
       "  <thead>\n",
       "    <tr style=\"text-align: right;\">\n",
       "      <th></th>\n",
       "      <th>Account</th>\n",
       "      <th>AdminComment</th>\n",
       "      <th>AllocCPUS</th>\n",
       "      <th>AllocGRES</th>\n",
       "      <th>AllocNodes</th>\n",
       "      <th>AllocTRES</th>\n",
       "      <th>AssocID</th>\n",
       "      <th>AveCPU</th>\n",
       "      <th>AveCPUFreq</th>\n",
       "      <th>AveDiskRead</th>\n",
       "      <th>...</th>\n",
       "      <th>SystemCPU</th>\n",
       "      <th>Timelimit</th>\n",
       "      <th>TotalCPU</th>\n",
       "      <th>UID</th>\n",
       "      <th>User</th>\n",
       "      <th>UserCPU</th>\n",
       "      <th>WCKey</th>\n",
       "      <th>WCKeyID</th>\n",
       "      <th>WorkDir</th>\n",
       "      <th>Unnamed: 87</th>\n",
       "    </tr>\n",
       "  </thead>\n",
       "  <tbody>\n",
       "    <tr>\n",
       "      <th>0</th>\n",
       "      <td>f.hung</td>\n",
       "      <td>NaN</td>\n",
       "      <td>28.0</td>\n",
       "      <td>NaN</td>\n",
       "      <td>1.0</td>\n",
       "      <td>cpu=28,mem=56000M,node=1,billing=28</td>\n",
       "      <td>2814</td>\n",
       "      <td>NaN</td>\n",
       "      <td>NaN</td>\n",
       "      <td>NaN</td>\n",
       "      <td>...</td>\n",
       "      <td>1-05:14:21</td>\n",
       "      <td>UNLIMITED</td>\n",
       "      <td>122-08:19:38</td>\n",
       "      <td>5.069700e+04</td>\n",
       "      <td>vodopivec.a</td>\n",
       "      <td>121-03:05:17</td>\n",
       "      <td>NaN</td>\n",
       "      <td>0.0</td>\n",
       "      <td>/scratch/vodopivec.a/MMT_CNC_YZ_scat_MD</td>\n",
       "      <td>NaN</td>\n",
       "    </tr>\n",
       "    <tr>\n",
       "      <th>3</th>\n",
       "      <td>f.hung</td>\n",
       "      <td>NaN</td>\n",
       "      <td>28.0</td>\n",
       "      <td>NaN</td>\n",
       "      <td>1.0</td>\n",
       "      <td>cpu=28,mem=56000M,node=1,billing=28</td>\n",
       "      <td>2814</td>\n",
       "      <td>NaN</td>\n",
       "      <td>NaN</td>\n",
       "      <td>NaN</td>\n",
       "      <td>...</td>\n",
       "      <td>1-08:48:14</td>\n",
       "      <td>UNLIMITED</td>\n",
       "      <td>126-03:57:06</td>\n",
       "      <td>5.069700e+04</td>\n",
       "      <td>vodopivec.a</td>\n",
       "      <td>124-19:08:52</td>\n",
       "      <td>NaN</td>\n",
       "      <td>0.0</td>\n",
       "      <td>/scratch/vodopivec.a/MMT2_CNC_YZ_MD</td>\n",
       "      <td>NaN</td>\n",
       "    </tr>\n",
       "    <tr>\n",
       "      <th>6</th>\n",
       "      <td>allshouse</td>\n",
       "      <td>NaN</td>\n",
       "      <td>8.0</td>\n",
       "      <td>NaN</td>\n",
       "      <td>0.0</td>\n",
       "      <td>NaN</td>\n",
       "      <td>2755</td>\n",
       "      <td>NaN</td>\n",
       "      <td>NaN</td>\n",
       "      <td>NaN</td>\n",
       "      <td>...</td>\n",
       "      <td>NaN</td>\n",
       "      <td>08:00:00</td>\n",
       "      <td>00:00:00</td>\n",
       "      <td>1.825241e+09</td>\n",
       "      <td>fennessy.fr</td>\n",
       "      <td>NaN</td>\n",
       "      <td>NaN</td>\n",
       "      <td>0.0</td>\n",
       "      <td>/scratch/fennessy.fr/wind</td>\n",
       "      <td>NaN</td>\n",
       "    </tr>\n",
       "    <tr>\n",
       "      <th>7</th>\n",
       "      <td>sioannidis</td>\n",
       "      <td>NaN</td>\n",
       "      <td>80.0</td>\n",
       "      <td>NaN</td>\n",
       "      <td>5.0</td>\n",
       "      <td>cpu=80,mem=160000M,node=5,billing=80</td>\n",
       "      <td>3177</td>\n",
       "      <td>NaN</td>\n",
       "      <td>NaN</td>\n",
       "      <td>NaN</td>\n",
       "      <td>...</td>\n",
       "      <td>00:00.721</td>\n",
       "      <td>04:00:00</td>\n",
       "      <td>00:05.179</td>\n",
       "      <td>1.825455e+09</td>\n",
       "      <td>jia.wa</td>\n",
       "      <td>00:04.458</td>\n",
       "      <td>NaN</td>\n",
       "      <td>0.0</td>\n",
       "      <td>/scratch/jia.wa/spark</td>\n",
       "      <td>NaN</td>\n",
       "    </tr>\n",
       "    <tr>\n",
       "      <th>11</th>\n",
       "      <td>j.dy</td>\n",
       "      <td>NaN</td>\n",
       "      <td>1.0</td>\n",
       "      <td>NaN</td>\n",
       "      <td>1.0</td>\n",
       "      <td>cpu=1,mem=16G,node=1,billing=1</td>\n",
       "      <td>3065</td>\n",
       "      <td>NaN</td>\n",
       "      <td>NaN</td>\n",
       "      <td>NaN</td>\n",
       "      <td>...</td>\n",
       "      <td>00:04.205</td>\n",
       "      <td>1-00:00:00</td>\n",
       "      <td>23:59:38</td>\n",
       "      <td>1.825563e+09</td>\n",
       "      <td>tingtingzhao</td>\n",
       "      <td>23:59:34</td>\n",
       "      <td>NaN</td>\n",
       "      <td>0.0</td>\n",
       "      <td>/home/tingtingzhao/rejfreePy_main_results/jobFile</td>\n",
       "      <td>NaN</td>\n",
       "    </tr>\n",
       "  </tbody>\n",
       "</table>\n",
       "<p>5 rows × 88 columns</p>\n",
       "</div>"
      ],
      "text/plain": [
       "       Account AdminComment  AllocCPUS AllocGRES  AllocNodes  \\\n",
       "0       f.hung          NaN       28.0       NaN         1.0   \n",
       "3       f.hung          NaN       28.0       NaN         1.0   \n",
       "6    allshouse          NaN        8.0       NaN         0.0   \n",
       "7   sioannidis          NaN       80.0       NaN         5.0   \n",
       "11        j.dy          NaN        1.0       NaN         1.0   \n",
       "\n",
       "                               AllocTRES AssocID AveCPU AveCPUFreq  \\\n",
       "0    cpu=28,mem=56000M,node=1,billing=28    2814    NaN        NaN   \n",
       "3    cpu=28,mem=56000M,node=1,billing=28    2814    NaN        NaN   \n",
       "6                                    NaN    2755    NaN        NaN   \n",
       "7   cpu=80,mem=160000M,node=5,billing=80    3177    NaN        NaN   \n",
       "11        cpu=1,mem=16G,node=1,billing=1    3065    NaN        NaN   \n",
       "\n",
       "   AveDiskRead  ...   SystemCPU   Timelimit      TotalCPU           UID  \\\n",
       "0          NaN  ...  1-05:14:21   UNLIMITED  122-08:19:38  5.069700e+04   \n",
       "3          NaN  ...  1-08:48:14   UNLIMITED  126-03:57:06  5.069700e+04   \n",
       "6          NaN  ...         NaN    08:00:00      00:00:00  1.825241e+09   \n",
       "7          NaN  ...   00:00.721    04:00:00     00:05.179  1.825455e+09   \n",
       "11         NaN  ...   00:04.205  1-00:00:00      23:59:38  1.825563e+09   \n",
       "\n",
       "            User       UserCPU WCKey  WCKeyID  \\\n",
       "0    vodopivec.a  121-03:05:17   NaN      0.0   \n",
       "3    vodopivec.a  124-19:08:52   NaN      0.0   \n",
       "6    fennessy.fr           NaN   NaN      0.0   \n",
       "7         jia.wa     00:04.458   NaN      0.0   \n",
       "11  tingtingzhao      23:59:34   NaN      0.0   \n",
       "\n",
       "                                              WorkDir Unnamed: 87  \n",
       "0             /scratch/vodopivec.a/MMT_CNC_YZ_scat_MD         NaN  \n",
       "3                 /scratch/vodopivec.a/MMT2_CNC_YZ_MD         NaN  \n",
       "6                           /scratch/fennessy.fr/wind         NaN  \n",
       "7                               /scratch/jia.wa/spark         NaN  \n",
       "11  /home/tingtingzhao/rejfreePy_main_results/jobFile         NaN  \n",
       "\n",
       "[5 rows x 88 columns]"
      ]
     },
     "execution_count": 14,
     "metadata": {},
     "output_type": "execute_result"
    }
   ],
   "source": [
    "#df_full = df_full.sample(frac=1).reset_index(drop=True)\n",
    "df_full.head()"
   ]
  },
  {
   "cell_type": "code",
   "execution_count": 29,
   "id": "21a3f2e1",
   "metadata": {},
   "outputs": [
    {
     "data": {
      "text/plain": [
       "Index(['Account', 'AdminComment', 'AllocCPUS', 'AllocGRES', 'AllocNodes',\n",
       "       'AllocTRES', 'AssocID', 'AveCPU', 'AveCPUFreq', 'AveDiskRead',\n",
       "       'AveDiskWrite', 'AvePages', 'AveRSS', 'AveVMSize', 'BlockID', 'Cluster',\n",
       "       'Comment', 'ConsumedEnergy', 'ConsumedEnergyRaw', 'CPUTime',\n",
       "       'CPUTimeRAW', 'DerivedExitCode', 'Elapsed', 'ElapsedRaw', 'Eligible',\n",
       "       'End', 'ExitCode', 'GID', 'Group', 'JobID', 'JobIDRaw', 'JobName',\n",
       "       'Layout', 'MaxDiskRead', 'MaxDiskReadNode', 'MaxDiskReadTask',\n",
       "       'MaxDiskWrite', 'MaxDiskWriteNode', 'MaxDiskWriteTask', 'MaxPages',\n",
       "       'MaxPagesNode', 'MaxPagesTask', 'MaxRSS', 'MaxRSSNode', 'MaxRSSTask',\n",
       "       'MaxVMSize', 'MaxVMSizeNode', 'MaxVMSizeTask', 'McsLabel', 'MinCPU',\n",
       "       'MinCPUNode', 'MinCPUTask', 'NCPUS', 'NNodes', 'NodeList', 'NTasks',\n",
       "       'Priority', 'Partition', 'QOS', 'QOSRAW', 'ReqCPUFreq', 'ReqCPUFreqMin',\n",
       "       'ReqCPUFreqMax', 'ReqCPUFreqGov', 'ReqCPUS', 'ReqGRES', 'ReqMem',\n",
       "       'ReqNodes', 'ReqTRES', 'Reservation', 'ReservationId', 'Reserved',\n",
       "       'ResvCPU', 'ResvCPURAW', 'Start', 'State', 'Submit', 'Suspended',\n",
       "       'SystemCPU', 'Timelimit', 'TotalCPU', 'UID', 'User', 'UserCPU', 'WCKey',\n",
       "       'WCKeyID', 'WorkDir', 'Unnamed: 87'],\n",
       "      dtype='object')"
      ]
     },
     "execution_count": 29,
     "metadata": {},
     "output_type": "execute_result"
    }
   ],
   "source": [
    "df_full.columns"
   ]
  },
  {
   "cell_type": "code",
   "execution_count": 15,
   "id": "fdfadb0e",
   "metadata": {},
   "outputs": [
    {
     "data": {
      "text/plain": [
       "(6340034, 88)"
      ]
     },
     "execution_count": 15,
     "metadata": {},
     "output_type": "execute_result"
    }
   ],
   "source": [
    "df_full.shape"
   ]
  },
  {
   "cell_type": "code",
   "execution_count": 16,
   "id": "cf60942c",
   "metadata": {},
   "outputs": [
    {
     "name": "stdout",
     "output_type": "stream",
     "text": [
      "Submit\n",
      "Min:  2019-06-06T15:41:32\n",
      "Max:  2020-11-23T23:59:34\n"
     ]
    }
   ],
   "source": [
    "print('Submit')\n",
    "print('Min: ',df_full['Submit'].min(axis=0))\n",
    "print('Max: ',df_full['Submit'].max(axis=0))"
   ]
  },
  {
   "cell_type": "code",
   "execution_count": 17,
   "id": "80e89b6f",
   "metadata": {},
   "outputs": [
    {
     "name": "stdout",
     "output_type": "stream",
     "text": [
      "End\n",
      "Min:  2020-02-01T00:00:02\n",
      "Max:  Unknown\n"
     ]
    }
   ],
   "source": [
    "print('End')\n",
    "print('Min: ',df_full['End'].min(axis=0))\n",
    "print('Max: ',df_full['End'].max(axis=0))"
   ]
  },
  {
   "cell_type": "code",
   "execution_count": 18,
   "id": "c91ee10c",
   "metadata": {},
   "outputs": [],
   "source": [
    "df_100k = df_full.head(600000)"
   ]
  },
  {
   "cell_type": "code",
   "execution_count": 19,
   "id": "274a7ada",
   "metadata": {},
   "outputs": [
    {
     "data": {
      "text/plain": [
       "(600000, 88)"
      ]
     },
     "execution_count": 19,
     "metadata": {},
     "output_type": "execute_result"
    }
   ],
   "source": [
    "df_100k.shape"
   ]
  },
  {
   "cell_type": "code",
   "execution_count": 20,
   "id": "092de0b1",
   "metadata": {},
   "outputs": [
    {
     "name": "stdout",
     "output_type": "stream",
     "text": [
      "Submit\n",
      "Min:  2019-10-25T16:32:05\n",
      "Max:  2020-03-04T14:26:14\n"
     ]
    }
   ],
   "source": [
    "print('Submit')\n",
    "print('Min: ',df_100k['Submit'].min(axis=0))\n",
    "print('Max: ',df_100k['Submit'].max(axis=0))"
   ]
  },
  {
   "cell_type": "code",
   "execution_count": 21,
   "id": "b0030e06",
   "metadata": {},
   "outputs": [
    {
     "name": "stdout",
     "output_type": "stream",
     "text": [
      "End\n",
      "Min:  2020-02-01T00:00:02\n",
      "Max:  2020-03-30T19:49:46\n"
     ]
    }
   ],
   "source": [
    "print('End')\n",
    "print('Min: ',df_100k['End'].min(axis=0))\n",
    "print('Max: ',df_100k['End'].max(axis=0))"
   ]
  },
  {
   "cell_type": "code",
   "execution_count": 22,
   "id": "c821d8ce",
   "metadata": {},
   "outputs": [
    {
     "data": {
      "text/plain": [
       "0          False\n",
       "3          False\n",
       "6          False\n",
       "7          False\n",
       "11         False\n",
       "           ...  \n",
       "1828147    False\n",
       "1828150    False\n",
       "1828153    False\n",
       "1828156    False\n",
       "1828159    False\n",
       "Name: End, Length: 600000, dtype: bool"
      ]
     },
     "execution_count": 22,
     "metadata": {},
     "output_type": "execute_result"
    }
   ],
   "source": [
    "df_100k['End'].str.contains(\"NaN\")"
   ]
  },
  {
   "cell_type": "code",
   "execution_count": 28,
   "id": "cac08ecd",
   "metadata": {},
   "outputs": [
    {
     "ename": "AttributeError",
     "evalue": "'str' object has no attribute 'contains'",
     "output_type": "error",
     "traceback": [
      "\u001b[0;31m---------------------------------------------------------------------------\u001b[0m",
      "\u001b[0;31mAttributeError\u001b[0m                            Traceback (most recent call last)",
      "\u001b[0;32m<ipython-input-28-21ffee2ca91a>\u001b[0m in \u001b[0;36m<module>\u001b[0;34m\u001b[0m\n\u001b[1;32m      1\u001b[0m \u001b[0mtest\u001b[0m \u001b[0;34m=\u001b[0m \u001b[0mstr\u001b[0m\u001b[0;34m(\u001b[0m\u001b[0;36m2021\u001b[0m\u001b[0;34m)\u001b[0m\u001b[0;34m\u001b[0m\u001b[0;34m\u001b[0m\u001b[0m\n\u001b[0;32m----> 2\u001b[0;31m \u001b[0mtest\u001b[0m\u001b[0;34m.\u001b[0m\u001b[0mcontains\u001b[0m\u001b[0;34m(\u001b[0m\u001b[0;34m\"20\"\u001b[0m\u001b[0;34m)\u001b[0m\u001b[0;34m\u001b[0m\u001b[0;34m\u001b[0m\u001b[0m\n\u001b[0m",
      "\u001b[0;31mAttributeError\u001b[0m: 'str' object has no attribute 'contains'"
     ]
    }
   ],
   "source": [
    "test = str(2021)\n",
    "test.contains(\"20\")"
   ]
  },
  {
   "cell_type": "code",
   "execution_count": null,
   "id": "d6be528f",
   "metadata": {},
   "outputs": [],
   "source": [
    "df_100k.to_pickle('/home/d.dasarathan/project_sml/100Kdataset/df_raw_600k.pkl')"
   ]
  },
  {
   "cell_type": "code",
   "execution_count": null,
   "id": "602c4785",
   "metadata": {},
   "outputs": [],
   "source": [
    "df_100k_load = pd.read_pickle('/home/d.dasarathan/project_sml/100Kdataset/df_raw_600k.pkl')\n",
    "df_100k_load.shape"
   ]
  },
  {
   "cell_type": "code",
   "execution_count": null,
   "id": "335f190c",
   "metadata": {},
   "outputs": [],
   "source": [
    "df_100k_load.head()"
   ]
  }
 ],
 "metadata": {
  "kernelspec": {
   "display_name": "Python 3",
   "language": "python",
   "name": "python3"
  },
  "language_info": {
   "codemirror_mode": {
    "name": "ipython",
    "version": 3
   },
   "file_extension": ".py",
   "mimetype": "text/x-python",
   "name": "python",
   "nbconvert_exporter": "python",
   "pygments_lexer": "ipython3",
   "version": "3.8.8"
  }
 },
 "nbformat": 4,
 "nbformat_minor": 5
}
